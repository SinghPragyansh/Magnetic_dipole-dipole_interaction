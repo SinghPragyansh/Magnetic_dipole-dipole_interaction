{
 "cells": [
  {
   "cell_type": "code",
   "execution_count": 1,
   "id": "ddd3de69",
   "metadata": {},
   "outputs": [],
   "source": [
    "import numpy as np\n",
    "import scipy.linalg as sal"
   ]
  },
  {
   "cell_type": "code",
   "execution_count": 2,
   "id": "cba7e643",
   "metadata": {},
   "outputs": [],
   "source": [
    "def inner_product(left_vec, right_vec):\n",
    "    bra = (np.conj(left_vec)).T\n",
    "    ket = right_vec\n",
    "    inner_prod = bra @ ket\n",
    "    return inner_prod"
   ]
  },
  {
   "cell_type": "code",
   "execution_count": 3,
   "id": "7c13b6df",
   "metadata": {},
   "outputs": [],
   "source": [
    "def norm_column_vec(x):\n",
    "    # m, n = x.shape\n",
    "    inner_pro = inner_product(x, x)\n",
    "    # inner_prodcut is still a 1x1 array, lets extract the element and take its sqrt\n",
    "    norm = np.sqrt(np.squeeze(inner_pro))\n",
    "    x_norm = x / norm\n",
    "    return x_norm"
   ]
  },
  {
   "cell_type": "code",
   "execution_count": 4,
   "id": "30ab30bd",
   "metadata": {},
   "outputs": [],
   "source": [
    "def individual_spin_operation_matrix():\n",
    "    S1_2 = np.array([[3/4,0,0,0],[0,3/4,0,0],[0,0,3/4,0], [0,0,0,3/4]])\n",
    "    S1z = np.array([[1/2,0,0,0],[0,1/2,0,0],[0,0,-1/2,0], [0,0,0,-1/2]])\n",
    "    S2z = np.array([[1/2,0,0,0],[0,-1/2,0,0],[0,0,1/2,0], [0,0,0,-1/2]])\n",
    "    S1_plus = np.array([[0,0,1,0],[0,0,0,1],[0,0,0,0], [0,0,0,0]])\n",
    "    S2_plus = np.array([[0,1,0,0],[0,0,0,0],[0,0,0,1], [0,0,0,0]])\n",
    "    S1_minus = np.array([[0,0,0,0],[0,0,0,0],[1,0,0,0], [0,1,0,0]])\n",
    "    S2_minus = np.array([[0,0,0,0],[1,0,0,0],[0,0,0,0], [0,0,1,0]])\n",
    "    \n",
    "    operate = {\"S1_2\": S1_2,\n",
    "               \"S2_2\": S1_2,\n",
    "               \"S1z\": S1z,\n",
    "               \"S2z\" : S2z,\n",
    "               \"S1_plus\": S1_plus,\n",
    "               \"S2_plus\" : S2_plus,\n",
    "               \"S1_minus\": S1_minus,\n",
    "               \"S2_minus\" : S2_minus\n",
    "              }\n",
    "    return operate"
   ]
  },
  {
   "cell_type": "code",
   "execution_count": 5,
   "id": "0ae240cd",
   "metadata": {},
   "outputs": [],
   "source": [
    "def S_2_operate(function_list):\n",
    "    l = len(function_list)\n",
    "    S_2_mat = np.zeros((l,l))\n",
    "    operate = individual_spin_operation_matrix()\n",
    "    S1_2 = operate[\"S1_2\"]\n",
    "    S2_2 = operate[\"S2_2\"]\n",
    "    S1_plus = operate[\"S1_plus\"]\n",
    "    S2_plus = operate[\"S2_plus\"]\n",
    "    S1_minus = operate[\"S1_minus\"]\n",
    "    S2_minus = operate[\"S2_minus\"]\n",
    "    S1z = operate[\"S1z\"]\n",
    "    S2z = operate[\"S2z\"]\n",
    "    \n",
    "    S_2_operation = S1_2 + S2_2 + 2*(0.5*(S1_plus@S2_minus+ S1_minus@S2_plus) + S1z@S2z)\n",
    "\n",
    "    return S_2_operation"
   ]
  },
  {
   "cell_type": "code",
   "execution_count": 6,
   "id": "d370cb63",
   "metadata": {},
   "outputs": [],
   "source": [
    "def Sz_operate(function_list):\n",
    "    l = len(function_list)\n",
    "    Sz_mat = np.zeros((l,l))\n",
    "    operate = individual_spin_operation_matrix()\n",
    "    S1z = operate[\"S1z\"]\n",
    "    S2z = operate[\"S2z\"]\n",
    "    \n",
    "    Sz_operation = S1z + S2z\n",
    "    \n",
    "    return Sz_operation"
   ]
  },
  {
   "cell_type": "code",
   "execution_count": 7,
   "id": "ce2780f3",
   "metadata": {},
   "outputs": [],
   "source": [
    "def product_bases():\n",
    "    operate = individual_spin_operation_matrix()\n",
    "    S1_2 = operate[\"S1_2\"]\n",
    "    eig_val, eig_vec = sal.eig(S1_2)\n",
    "    up_up = eig_vec[0].reshape(-1,1)\n",
    "    up_down = eig_vec[1].reshape(-1,1)\n",
    "    down_up = eig_vec[2].reshape(-1,1)\n",
    "    down_down = eig_vec[3].reshape(-1,1)\n",
    "    \n",
    "    function_list = [up_up, up_down, down_up, down_down]\n",
    "    function_dict = {\"up_up\": up_up,\n",
    "                \"up_down\": up_down,\n",
    "                \"down_up\": down_up,\n",
    "                \"down_down\": down_down}\n",
    "    return function_list, function_dict"
   ]
  },
  {
   "cell_type": "code",
   "execution_count": 8,
   "id": "34e4f65f",
   "metadata": {},
   "outputs": [],
   "source": [
    "def CG_coeff(function_list):\n",
    "    S_2_mat = S_2_operate(function_list)\n",
    "    coupled_val ,coupled_vec = sal.eig(S_2_mat)\n",
    "    CG_matrix = coupled_vec.T\n",
    "    \n",
    "    return CG_matrix"
   ]
  },
  {
   "cell_type": "code",
   "execution_count": 9,
   "id": "152a2c13",
   "metadata": {},
   "outputs": [],
   "source": [
    "def coupled_bases(CG_matrix):\n",
    "    t1 = CG_matrix[2]\n",
    "    t0 = CG_matrix[0]\n",
    "    t_1 = CG_matrix[3]\n",
    "    s0 = CG_matrix[1]\n",
    "    coupled_states = {\"triplet1\": t1,\n",
    "                  \"triplet0\": t0,\n",
    "                  \"triplet_1\": t_1,\n",
    "                  \"singlet\": s0\n",
    "                 }\n",
    "    return coupled_states"
   ]
  },
  {
   "cell_type": "markdown",
   "id": "013286c4",
   "metadata": {},
   "source": [
    "                      ## Magnetic Dipole-Dipole Interaction"
   ]
  },
  {
   "cell_type": "markdown",
   "id": "c45d2251",
   "metadata": {},
   "source": [
    "    H = (mu1 . mu2)/r^3 - 3*(mu1 . r)*(mu2 . r)/r^5 ;\n",
    "    since for an electron, mu = (g_e*e/(2*m_e))* S \n",
    "    for two electrons, the dipole_dipole interaction:\n",
    "    H = (g_e*e/(2*m_e))( (S1.S2)/r^3 - 3*(S1.r)(S2.r)/r^5 )\n",
    "    \n",
    "    The choice of coord syst is arbitrary: so chosse r s.t. it lies along the z axis; \n",
    "    r = a.z_cap\n",
    "    H = const * (1/a^3)( S1.S2 - 3* S1_z.S2_z )\n",
    "    since, S1.S2 = 1/2(S^2 - S1^2 - S2^2 )\n",
    "    also, S_z^2 = (S1_z + S2_z)^2 = S1_z^2 + S2_z^2 + 2*(S1_z.S2_z)\n",
    "    S1_z.S2_z = 1/2(Sz^2 - S1_z^2 - S2_z^2)]\n",
    "    H = const*(1/a^3)(1/2(S^2 - S1^2 - S2^2) - 3/2(Sz^2 - S1_z^2 - S2_z^2))"
   ]
  },
  {
   "cell_type": "markdown",
   "id": "e53ab5e9",
   "metadata": {},
   "source": [
    "If system (here two particle) is expressed in coupled state bases; this state is an eigenfunction of H. "
   ]
  },
  {
   "cell_type": "code",
   "execution_count": 10,
   "id": "40a362f7",
   "metadata": {},
   "outputs": [],
   "source": [
    "def dipole_dipole_interaction(a, particle_1, particle_2, function_list, right_vec, left_vec ):\n",
    "    h_cut = 1\n",
    "    g1 = particle_1[\"g\"]\n",
    "    q1 = particle_1[\"q\"]\n",
    "    m1 = particle_1[\"m\"]\n",
    "    g2 = particle_2[\"g\"]\n",
    "    q2 = particle_2[\"q\"]\n",
    "    m2 = particle_2[\"m\"]\n",
    "\n",
    "    const = (g1*q1/(2*m1))*(g2*q2/(2*m2))\n",
    "    \n",
    "    operate = individual_spin_operation_matrix()\n",
    "    S1_2 = operate[\"S1_2\"]\n",
    "    S2_2 = operate[\"S2_2\"]\n",
    "    S1z = operate[\"S1z\"]\n",
    "    S2z = operate[\"S2z\"]\n",
    "    Sz = Sz_operate(function_list)\n",
    "    S_2  = S_2_operate(function_list)\n",
    "    \n",
    "    Sz_2 = np.square(Sz)\n",
    "    S1z_2 = np.square(S1z)\n",
    "    S2z_2 = np.square(S2z)\n",
    "    \n",
    "    H = (const/(a**3))*( (1/2)*(S_2 - S1_2 - S2_2) - (3/2)*(Sz_2 - S1z_2 - S2z_2))\n",
    "    \n",
    "    bra_vec = norm_column_vec(left_vec)\n",
    "    ket_vec = norm_column_vec(right_vec)\n",
    "    \n",
    "    ene = bra_vec.T @ H @ ket_vec\n",
    "    \n",
    "    return np.squeeze(ene)"
   ]
  },
  {
   "cell_type": "code",
   "execution_count": 11,
   "id": "804529b2",
   "metadata": {},
   "outputs": [],
   "source": [
    "# considering a = hydrogen atom radius in atomic unit; a = 1\n",
    "# g_e = 2, e = 1, h_cut = 1, m_e = 1, a = 1\n",
    "# the constants, if the particle is electron\n",
    "g_e = 2\n",
    "q_e = 1\n",
    "m_e = 1\n",
    "electron_particle = {\"g\": g_e, \"q\": q_e, \"m\": m_e}"
   ]
  },
  {
   "cell_type": "code",
   "execution_count": 12,
   "id": "e91fc6cb",
   "metadata": {},
   "outputs": [],
   "source": [
    "# info of proton as a particle\n",
    "g_p = 5.6\n",
    "q_p = -1\n",
    "m_p = 1836\n",
    "proton_particle = {\"g\": g_p, \"q\":q_p, \"m\": m_p}"
   ]
  },
  {
   "cell_type": "code",
   "execution_count": 13,
   "id": "6340166b",
   "metadata": {},
   "outputs": [],
   "source": [
    "function_list, function_dict = product_bases()\n",
    "CG_matrix = CG_coeff(function_list)\n",
    "coupled_states = coupled_bases(CG_matrix)"
   ]
  },
  {
   "cell_type": "code",
   "execution_count": 14,
   "id": "74c9660a",
   "metadata": {},
   "outputs": [
    {
     "data": {
      "text/plain": [
       "0.0"
      ]
     },
     "execution_count": 14,
     "metadata": {},
     "output_type": "execute_result"
    }
   ],
   "source": [
    "a = 1\n",
    "particle_1 = electron_particle\n",
    "particle_2 = proton_particle\n",
    "ini_state = coupled_states[\"singlet\"]\n",
    "final_state = coupled_states[\"singlet\"]\n",
    "\n",
    "dd_interaction_energy = dipole_dipole_interaction(a,particle_1, particle_2, function_list,ini_state,final_state)\n",
    "dd_interaction_energy"
   ]
  },
  {
   "cell_type": "code",
   "execution_count": 15,
   "id": "7d7bc067",
   "metadata": {},
   "outputs": [
    {
     "data": {
      "text/plain": [
       "0.0007625272331154684"
      ]
     },
     "execution_count": 15,
     "metadata": {},
     "output_type": "execute_result"
    }
   ],
   "source": [
    "a = 1\n",
    "particle = electron_particle\n",
    "ini_state = coupled_states[\"triplet1\"]\n",
    "final_state = coupled_states[\"triplet1\"]\n",
    "\n",
    "dd_interaction_energy = dipole_dipole_interaction(a,particle_1, particle_2, function_list,ini_state,final_state)\n",
    "dd_interaction_energy"
   ]
  },
  {
   "cell_type": "code",
   "execution_count": 16,
   "id": "eb2c9c78",
   "metadata": {},
   "outputs": [
    {
     "data": {
      "text/plain": [
       "0.0007625272331154684"
      ]
     },
     "execution_count": 16,
     "metadata": {},
     "output_type": "execute_result"
    }
   ],
   "source": [
    "a = 1\n",
    "particle = electron_particle\n",
    "ini_state = coupled_states[\"triplet_1\"]\n",
    "final_state = coupled_states[\"triplet_1\"]\n",
    "\n",
    "dd_interaction_energy = dipole_dipole_interaction(a,particle_1, particle_2, function_list,ini_state,final_state)\n",
    "dd_interaction_energy"
   ]
  },
  {
   "cell_type": "code",
   "execution_count": 18,
   "id": "8da52c1a",
   "metadata": {},
   "outputs": [
    {
     "data": {
      "text/plain": [
       "-0.0015250544662309367"
      ]
     },
     "execution_count": 18,
     "metadata": {},
     "output_type": "execute_result"
    }
   ],
   "source": [
    "a = 1\n",
    "particle = electron_particle\n",
    "ini_state = coupled_states[\"triplet0\"]\n",
    "final_state = coupled_states[\"triplet0\"]\n",
    "\n",
    "dd_interaction_energy = dipole_dipole_interaction(a,particle_1, particle_2, function_list,ini_state,final_state)\n",
    "dd_interaction_energy"
   ]
  },
  {
   "cell_type": "code",
   "execution_count": null,
   "id": "c4c28f82",
   "metadata": {},
   "outputs": [],
   "source": []
  }
 ],
 "metadata": {
  "kernelspec": {
   "display_name": "Python 3",
   "language": "python",
   "name": "python3"
  },
  "language_info": {
   "codemirror_mode": {
    "name": "ipython",
    "version": 3
   },
   "file_extension": ".py",
   "mimetype": "text/x-python",
   "name": "python",
   "nbconvert_exporter": "python",
   "pygments_lexer": "ipython3",
   "version": "3.8.8"
  }
 },
 "nbformat": 4,
 "nbformat_minor": 5
}
